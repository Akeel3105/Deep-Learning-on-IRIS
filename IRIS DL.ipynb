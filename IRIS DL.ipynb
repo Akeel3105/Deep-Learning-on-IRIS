{
 "cells": [
  {
   "cell_type": "code",
   "execution_count": 1,
   "metadata": {},
   "outputs": [
    {
     "name": "stderr",
     "output_type": "stream",
     "text": [
      "Using TensorFlow backend.\n"
     ]
    }
   ],
   "source": [
    "from keras.models import Sequential\n",
    "from keras.layers import Dense\n",
    "from sklearn.datasets import load_iris\n",
    "import pandas as pd\n",
    "import numpy as np"
   ]
  },
  {
   "cell_type": "code",
   "execution_count": null,
   "metadata": {},
   "outputs": [],
   "source": []
  },
  {
   "cell_type": "code",
   "execution_count": null,
   "metadata": {},
   "outputs": [],
   "source": [
    "# Loading dataset from iris inbuilt dataset"
   ]
  },
  {
   "cell_type": "code",
   "execution_count": 3,
   "metadata": {},
   "outputs": [],
   "source": [
    "iris=load_iris()"
   ]
  },
  {
   "cell_type": "code",
   "execution_count": null,
   "metadata": {},
   "outputs": [],
   "source": [
    "# as it is in array form we will convert it into dataframe and also add the target column"
   ]
  },
  {
   "cell_type": "code",
   "execution_count": 7,
   "metadata": {},
   "outputs": [],
   "source": [
    "iris=pd.DataFrame(data = np.c_[iris['data'], iris['target']],columns = ['sepal.length', 'sepal.width', 'petal.length', 'petal.width'] + ['species'])"
   ]
  },
  {
   "cell_type": "code",
   "execution_count": null,
   "metadata": {},
   "outputs": [],
   "source": [
    "# Looking at the dataset"
   ]
  },
  {
   "cell_type": "code",
   "execution_count": 8,
   "metadata": {},
   "outputs": [
    {
     "data": {
      "text/html": [
       "<div>\n",
       "<style scoped>\n",
       "    .dataframe tbody tr th:only-of-type {\n",
       "        vertical-align: middle;\n",
       "    }\n",
       "\n",
       "    .dataframe tbody tr th {\n",
       "        vertical-align: top;\n",
       "    }\n",
       "\n",
       "    .dataframe thead th {\n",
       "        text-align: right;\n",
       "    }\n",
       "</style>\n",
       "<table border=\"1\" class=\"dataframe\">\n",
       "  <thead>\n",
       "    <tr style=\"text-align: right;\">\n",
       "      <th></th>\n",
       "      <th>sepal.length</th>\n",
       "      <th>sepal.width</th>\n",
       "      <th>petal.length</th>\n",
       "      <th>petal.width</th>\n",
       "      <th>species</th>\n",
       "    </tr>\n",
       "  </thead>\n",
       "  <tbody>\n",
       "    <tr>\n",
       "      <th>0</th>\n",
       "      <td>5.1</td>\n",
       "      <td>3.5</td>\n",
       "      <td>1.4</td>\n",
       "      <td>0.2</td>\n",
       "      <td>0.0</td>\n",
       "    </tr>\n",
       "    <tr>\n",
       "      <th>1</th>\n",
       "      <td>4.9</td>\n",
       "      <td>3.0</td>\n",
       "      <td>1.4</td>\n",
       "      <td>0.2</td>\n",
       "      <td>0.0</td>\n",
       "    </tr>\n",
       "    <tr>\n",
       "      <th>2</th>\n",
       "      <td>4.7</td>\n",
       "      <td>3.2</td>\n",
       "      <td>1.3</td>\n",
       "      <td>0.2</td>\n",
       "      <td>0.0</td>\n",
       "    </tr>\n",
       "    <tr>\n",
       "      <th>3</th>\n",
       "      <td>4.6</td>\n",
       "      <td>3.1</td>\n",
       "      <td>1.5</td>\n",
       "      <td>0.2</td>\n",
       "      <td>0.0</td>\n",
       "    </tr>\n",
       "  </tbody>\n",
       "</table>\n",
       "</div>"
      ],
      "text/plain": [
       "   sepal.length  sepal.width  petal.length  petal.width  species\n",
       "0           5.1          3.5           1.4          0.2      0.0\n",
       "1           4.9          3.0           1.4          0.2      0.0\n",
       "2           4.7          3.2           1.3          0.2      0.0\n",
       "3           4.6          3.1           1.5          0.2      0.0"
      ]
     },
     "execution_count": 8,
     "metadata": {},
     "output_type": "execute_result"
    }
   ],
   "source": [
    "iris.head(4)"
   ]
  },
  {
   "cell_type": "code",
   "execution_count": null,
   "metadata": {},
   "outputs": [],
   "source": [
    "# combining two similar categories into one\n",
    "X_df = iris_df.loc[:, ['sepal.width', 'petal.width']]\n",
    "X_df = X_df.values\n",
    "y_df = (iris_df.species != 0) * 1\n",
    "y_df = y_df.values.reshape((y_df.shape[0], 1))"
   ]
  },
  {
   "cell_type": "code",
   "execution_count": null,
   "metadata": {},
   "outputs": [],
   "source": [
    "# combining sepal width and petal width as one separate array"
   ]
  },
  {
   "cell_type": "code",
   "execution_count": 12,
   "metadata": {},
   "outputs": [],
   "source": [
    "data=iris.loc[:, ['sepal.width', 'petal.width']]"
   ]
  },
  {
   "cell_type": "code",
   "execution_count": null,
   "metadata": {},
   "outputs": [],
   "source": [
    "# Taking only values of these two col"
   ]
  },
  {
   "cell_type": "code",
   "execution_count": 14,
   "metadata": {},
   "outputs": [],
   "source": [
    "data=data.values"
   ]
  },
  {
   "cell_type": "code",
   "execution_count": null,
   "metadata": {},
   "outputs": [],
   "source": [
    "# taking target column"
   ]
  },
  {
   "cell_type": "code",
   "execution_count": 19,
   "metadata": {},
   "outputs": [],
   "source": [
    "target=(iris.species != 0) * 1"
   ]
  },
  {
   "cell_type": "code",
   "execution_count": null,
   "metadata": {},
   "outputs": [],
   "source": [
    "# Reshaping it "
   ]
  },
  {
   "cell_type": "code",
   "execution_count": 23,
   "metadata": {},
   "outputs": [],
   "source": [
    "target=target.values.reshape((target.shape[0], 1))"
   ]
  },
  {
   "cell_type": "code",
   "execution_count": 27,
   "metadata": {},
   "outputs": [],
   "source": [
    "train_index = np.random.choice(len(data), round(len(data) * 0.8), replace=False)\n",
    "\n",
    "test_index = np.array(list(set(range(len(data))) - set(train_index)))\n",
    "train_X = data[train_index]\n",
    "train_y = target[train_index]\n",
    "test_X = data[test_index]\n",
    "test_y = target[test_index]"
   ]
  },
  {
   "cell_type": "code",
   "execution_count": null,
   "metadata": {},
   "outputs": [],
   "source": [
    "# printing the shape of splitted data"
   ]
  },
  {
   "cell_type": "code",
   "execution_count": 33,
   "metadata": {},
   "outputs": [
    {
     "name": "stdout",
     "output_type": "stream",
     "text": [
      "shape of train_X is: (120, 2)\n",
      "shape of train_y is: (120, 1)\n",
      "shape of test_X is: (30, 2)\n",
      "shape of test_y is: (30, 1)\n"
     ]
    }
   ],
   "source": [
    "print(\"shape of train_X is:\",train_X.shape)\n",
    "print(\"shape of train_y is:\",train_y.shape)\n",
    "print(\"shape of test_X is:\",test_X.shape)\n",
    "print(\"shape of test_y is:\",test_y.shape)"
   ]
  },
  {
   "cell_type": "code",
   "execution_count": null,
   "metadata": {},
   "outputs": [],
   "source": [
    "# Impementing Deep learning model"
   ]
  },
  {
   "cell_type": "code",
   "execution_count": 34,
   "metadata": {},
   "outputs": [
    {
     "name": "stdout",
     "output_type": "stream",
     "text": [
      "WARNING:tensorflow:From c:\\users\\acer\\appdata\\local\\programs\\python\\python36\\lib\\site-packages\\tensorflow_core\\python\\ops\\nn_impl.py:183: where (from tensorflow.python.ops.array_ops) is deprecated and will be removed in a future version.\n",
      "Instructions for updating:\n",
      "Use tf.where in 2.0, which has the same broadcast rule as np.where\n",
      "Epoch 1/150\n",
      "120/120 [==============================] - 1s 6ms/step - loss: 1.3180 - accuracy: 0.6417\n",
      "Epoch 2/150\n",
      "120/120 [==============================] - 0s 76us/step - loss: 1.2829 - accuracy: 0.6417\n",
      "Epoch 3/150\n",
      "120/120 [==============================] - 0s 75us/step - loss: 1.2481 - accuracy: 0.6417\n",
      "Epoch 4/150\n",
      "120/120 [==============================] - 0s 68us/step - loss: 1.2172 - accuracy: 0.6417\n",
      "Epoch 5/150\n",
      "120/120 [==============================] - 0s 74us/step - loss: 1.1879 - accuracy: 0.6417\n",
      "Epoch 6/150\n",
      "120/120 [==============================] - 0s 72us/step - loss: 1.1608 - accuracy: 0.6417\n",
      "Epoch 7/150\n",
      "120/120 [==============================] - 0s 88us/step - loss: 1.1346 - accuracy: 0.6417\n",
      "Epoch 8/150\n",
      "120/120 [==============================] - 0s 98us/step - loss: 1.1113 - accuracy: 0.6417\n",
      "Epoch 9/150\n",
      "120/120 [==============================] - 0s 59us/step - loss: 1.0893 - accuracy: 0.6417\n",
      "Epoch 10/150\n",
      "120/120 [==============================] - 0s 65us/step - loss: 1.0708 - accuracy: 0.6417\n",
      "Epoch 11/150\n",
      "120/120 [==============================] - 0s 91us/step - loss: 1.0541 - accuracy: 0.6417\n",
      "Epoch 12/150\n",
      "120/120 [==============================] - 0s 94us/step - loss: 1.0362 - accuracy: 0.6417\n",
      "Epoch 13/150\n",
      "120/120 [==============================] - 0s 80us/step - loss: 1.0207 - accuracy: 0.6417\n",
      "Epoch 14/150\n",
      "120/120 [==============================] - 0s 53us/step - loss: 1.0061 - accuracy: 0.6417\n",
      "Epoch 15/150\n",
      "120/120 [==============================] - 0s 78us/step - loss: 0.9923 - accuracy: 0.6417\n",
      "Epoch 16/150\n",
      "120/120 [==============================] - 0s 80us/step - loss: 0.9796 - accuracy: 0.6417\n",
      "Epoch 17/150\n",
      "120/120 [==============================] - 0s 82us/step - loss: 0.9679 - accuracy: 0.6417\n",
      "Epoch 18/150\n",
      "120/120 [==============================] - 0s 76us/step - loss: 0.9564 - accuracy: 0.6417\n",
      "Epoch 19/150\n",
      "120/120 [==============================] - 0s 96us/step - loss: 0.9459 - accuracy: 0.6417\n",
      "Epoch 20/150\n",
      "120/120 [==============================] - 0s 69us/step - loss: 0.9360 - accuracy: 0.6417\n",
      "Epoch 21/150\n",
      "120/120 [==============================] - 0s 81us/step - loss: 0.9261 - accuracy: 0.6417\n",
      "Epoch 22/150\n",
      "120/120 [==============================] - 0s 112us/step - loss: 0.9170 - accuracy: 0.6417\n",
      "Epoch 23/150\n",
      "120/120 [==============================] - 0s 106us/step - loss: 0.9086 - accuracy: 0.6417\n",
      "Epoch 24/150\n",
      "120/120 [==============================] - 0s 88us/step - loss: 0.8992 - accuracy: 0.6417\n",
      "Epoch 25/150\n",
      "120/120 [==============================] - 0s 79us/step - loss: 0.8915 - accuracy: 0.6417\n",
      "Epoch 26/150\n",
      "120/120 [==============================] - 0s 98us/step - loss: 0.8826 - accuracy: 0.6417\n",
      "Epoch 27/150\n",
      "120/120 [==============================] - 0s 81us/step - loss: 0.8752 - accuracy: 0.6417\n",
      "Epoch 28/150\n",
      "120/120 [==============================] - 0s 78us/step - loss: 0.8676 - accuracy: 0.6417\n",
      "Epoch 29/150\n",
      "120/120 [==============================] - 0s 102us/step - loss: 0.8595 - accuracy: 0.6417\n",
      "Epoch 30/150\n",
      "120/120 [==============================] - 0s 93us/step - loss: 0.8530 - accuracy: 0.6417\n",
      "Epoch 31/150\n",
      "120/120 [==============================] - 0s 81us/step - loss: 0.8455 - accuracy: 0.6417\n",
      "Epoch 32/150\n",
      "120/120 [==============================] - 0s 106us/step - loss: 0.8386 - accuracy: 0.6417\n",
      "Epoch 33/150\n",
      "120/120 [==============================] - 0s 92us/step - loss: 0.8318 - accuracy: 0.6417\n",
      "Epoch 34/150\n",
      "120/120 [==============================] - 0s 96us/step - loss: 0.8234 - accuracy: 0.6417\n",
      "Epoch 35/150\n",
      "120/120 [==============================] - 0s 89us/step - loss: 0.8173 - accuracy: 0.6417\n",
      "Epoch 36/150\n",
      "120/120 [==============================] - 0s 85us/step - loss: 0.8101 - accuracy: 0.6417\n",
      "Epoch 37/150\n",
      "120/120 [==============================] - 0s 94us/step - loss: 0.8035 - accuracy: 0.6417\n",
      "Epoch 38/150\n",
      "120/120 [==============================] - 0s 125us/step - loss: 0.7971 - accuracy: 0.6417\n",
      "Epoch 39/150\n",
      "120/120 [==============================] - 0s 80us/step - loss: 0.7906 - accuracy: 0.6417\n",
      "Epoch 40/150\n",
      "120/120 [==============================] - 0s 98us/step - loss: 0.7854 - accuracy: 0.6417\n",
      "Epoch 41/150\n",
      "120/120 [==============================] - 0s 117us/step - loss: 0.7781 - accuracy: 0.6417\n",
      "Epoch 42/150\n",
      "120/120 [==============================] - 0s 85us/step - loss: 0.7724 - accuracy: 0.6417\n",
      "Epoch 43/150\n",
      "120/120 [==============================] - 0s 105us/step - loss: 0.7658 - accuracy: 0.6417\n",
      "Epoch 44/150\n",
      "120/120 [==============================] - 0s 99us/step - loss: 0.7597 - accuracy: 0.6417\n",
      "Epoch 45/150\n",
      "120/120 [==============================] - 0s 78us/step - loss: 0.7538 - accuracy: 0.6417\n",
      "Epoch 46/150\n",
      "120/120 [==============================] - 0s 83us/step - loss: 0.7482 - accuracy: 0.6417\n",
      "Epoch 47/150\n",
      "120/120 [==============================] - 0s 86us/step - loss: 0.7423 - accuracy: 0.6417\n",
      "Epoch 48/150\n",
      "120/120 [==============================] - 0s 71us/step - loss: 0.7367 - accuracy: 0.6417\n",
      "Epoch 49/150\n",
      "120/120 [==============================] - 0s 76us/step - loss: 0.7315 - accuracy: 0.6417\n",
      "Epoch 50/150\n",
      "120/120 [==============================] - 0s 97us/step - loss: 0.7249 - accuracy: 0.6417\n",
      "Epoch 51/150\n",
      "120/120 [==============================] - 0s 77us/step - loss: 0.7198 - accuracy: 0.6417\n",
      "Epoch 52/150\n",
      "120/120 [==============================] - 0s 75us/step - loss: 0.7138 - accuracy: 0.6417\n",
      "Epoch 53/150\n",
      "120/120 [==============================] - 0s 84us/step - loss: 0.7082 - accuracy: 0.6417\n",
      "Epoch 54/150\n",
      "120/120 [==============================] - 0s 95us/step - loss: 0.7029 - accuracy: 0.6417\n",
      "Epoch 55/150\n",
      "120/120 [==============================] - 0s 88us/step - loss: 0.6976 - accuracy: 0.6417\n",
      "Epoch 56/150\n",
      "120/120 [==============================] - 0s 87us/step - loss: 0.6924 - accuracy: 0.6417\n",
      "Epoch 57/150\n",
      "120/120 [==============================] - 0s 89us/step - loss: 0.6869 - accuracy: 0.6417\n",
      "Epoch 58/150\n",
      "120/120 [==============================] - 0s 112us/step - loss: 0.6825 - accuracy: 0.6417\n",
      "Epoch 59/150\n",
      "120/120 [==============================] - 0s 76us/step - loss: 0.6765 - accuracy: 0.6417\n",
      "Epoch 60/150\n",
      "120/120 [==============================] - 0s 84us/step - loss: 0.6717 - accuracy: 0.6417\n",
      "Epoch 61/150\n",
      "120/120 [==============================] - 0s 97us/step - loss: 0.6665 - accuracy: 0.6417\n",
      "Epoch 62/150\n",
      "120/120 [==============================] - 0s 93us/step - loss: 0.6616 - accuracy: 0.6417\n",
      "Epoch 63/150\n",
      "120/120 [==============================] - 0s 77us/step - loss: 0.6571 - accuracy: 0.6417\n",
      "Epoch 64/150\n",
      "120/120 [==============================] - 0s 71us/step - loss: 0.6521 - accuracy: 0.6417\n",
      "Epoch 65/150\n",
      "120/120 [==============================] - 0s 78us/step - loss: 0.6471 - accuracy: 0.6417\n",
      "Epoch 66/150\n",
      "120/120 [==============================] - 0s 95us/step - loss: 0.6423 - accuracy: 0.6417\n",
      "Epoch 67/150\n",
      "120/120 [==============================] - 0s 97us/step - loss: 0.6376 - accuracy: 0.6417\n",
      "Epoch 68/150\n",
      "120/120 [==============================] - 0s 87us/step - loss: 0.6330 - accuracy: 0.6417\n",
      "Epoch 69/150\n",
      "120/120 [==============================] - 0s 86us/step - loss: 0.6282 - accuracy: 0.6417\n",
      "Epoch 70/150\n",
      "120/120 [==============================] - 0s 129us/step - loss: 0.6240 - accuracy: 0.6417\n",
      "Epoch 71/150\n",
      "120/120 [==============================] - 0s 107us/step - loss: 0.6195 - accuracy: 0.6417\n",
      "Epoch 72/150\n",
      "120/120 [==============================] - 0s 86us/step - loss: 0.6148 - accuracy: 0.6417\n",
      "Epoch 73/150\n",
      "120/120 [==============================] - 0s 101us/step - loss: 0.6104 - accuracy: 0.6417\n",
      "Epoch 74/150\n",
      "120/120 [==============================] - 0s 94us/step - loss: 0.6062 - accuracy: 0.6417\n",
      "Epoch 75/150\n",
      "120/120 [==============================] - 0s 73us/step - loss: 0.6018 - accuracy: 0.6417\n",
      "Epoch 76/150\n",
      "120/120 [==============================] - 0s 66us/step - loss: 0.5979 - accuracy: 0.6417\n",
      "Epoch 77/150\n"
     ]
    },
    {
     "name": "stdout",
     "output_type": "stream",
     "text": [
      "120/120 [==============================] - 0s 110us/step - loss: 0.5933 - accuracy: 0.6417\n",
      "Epoch 78/150\n",
      "120/120 [==============================] - 0s 89us/step - loss: 0.5894 - accuracy: 0.6417\n",
      "Epoch 79/150\n",
      "120/120 [==============================] - 0s 92us/step - loss: 0.5856 - accuracy: 0.6417\n",
      "Epoch 80/150\n",
      "120/120 [==============================] - 0s 71us/step - loss: 0.5813 - accuracy: 0.6417\n",
      "Epoch 81/150\n",
      "120/120 [==============================] - 0s 103us/step - loss: 0.5772 - accuracy: 0.6417\n",
      "Epoch 82/150\n",
      "120/120 [==============================] - 0s 100us/step - loss: 0.5732 - accuracy: 0.6417\n",
      "Epoch 83/150\n",
      "120/120 [==============================] - 0s 91us/step - loss: 0.5694 - accuracy: 0.6417\n",
      "Epoch 84/150\n",
      "120/120 [==============================] - 0s 98us/step - loss: 0.5656 - accuracy: 0.6417\n",
      "Epoch 85/150\n",
      "120/120 [==============================] - 0s 81us/step - loss: 0.5615 - accuracy: 0.6417\n",
      "Epoch 86/150\n",
      "120/120 [==============================] - 0s 117us/step - loss: 0.5579 - accuracy: 0.6417\n",
      "Epoch 87/150\n",
      "120/120 [==============================] - 0s 98us/step - loss: 0.5542 - accuracy: 0.6417\n",
      "Epoch 88/150\n",
      "120/120 [==============================] - 0s 91us/step - loss: 0.5505 - accuracy: 0.6417\n",
      "Epoch 89/150\n",
      "120/120 [==============================] - 0s 89us/step - loss: 0.5467 - accuracy: 0.6417\n",
      "Epoch 90/150\n",
      "120/120 [==============================] - 0s 88us/step - loss: 0.5439 - accuracy: 0.6417\n",
      "Epoch 91/150\n",
      "120/120 [==============================] - 0s 79us/step - loss: 0.5395 - accuracy: 0.6417\n",
      "Epoch 92/150\n",
      "120/120 [==============================] - 0s 90us/step - loss: 0.5359 - accuracy: 0.6417\n",
      "Epoch 93/150\n",
      "120/120 [==============================] - 0s 96us/step - loss: 0.5328 - accuracy: 0.6417\n",
      "Epoch 94/150\n",
      "120/120 [==============================] - 0s 87us/step - loss: 0.5294 - accuracy: 0.6417\n",
      "Epoch 95/150\n",
      "120/120 [==============================] - 0s 85us/step - loss: 0.5256 - accuracy: 0.6417\n",
      "Epoch 96/150\n",
      "120/120 [==============================] - 0s 87us/step - loss: 0.5222 - accuracy: 0.6417\n",
      "Epoch 97/150\n",
      "120/120 [==============================] - 0s 88us/step - loss: 0.5187 - accuracy: 0.6417\n",
      "Epoch 98/150\n",
      "120/120 [==============================] - 0s 100us/step - loss: 0.5157 - accuracy: 0.6417\n",
      "Epoch 99/150\n",
      "120/120 [==============================] - 0s 98us/step - loss: 0.5124 - accuracy: 0.6417\n",
      "Epoch 100/150\n",
      "120/120 [==============================] - 0s 106us/step - loss: 0.5088 - accuracy: 0.6417\n",
      "Epoch 101/150\n",
      "120/120 [==============================] - 0s 90us/step - loss: 0.5058 - accuracy: 0.6417\n",
      "Epoch 102/150\n",
      "120/120 [==============================] - 0s 106us/step - loss: 0.5029 - accuracy: 0.6500\n",
      "Epoch 103/150\n",
      "120/120 [==============================] - 0s 109us/step - loss: 0.4994 - accuracy: 0.6417\n",
      "Epoch 104/150\n",
      "120/120 [==============================] - 0s 111us/step - loss: 0.4963 - accuracy: 0.6583\n",
      "Epoch 105/150\n",
      "120/120 [==============================] - 0s 108us/step - loss: 0.4933 - accuracy: 0.6667\n",
      "Epoch 106/150\n",
      "120/120 [==============================] - 0s 113us/step - loss: 0.4901 - accuracy: 0.6750\n",
      "Epoch 107/150\n",
      "120/120 [==============================] - 0s 94us/step - loss: 0.4872 - accuracy: 0.6833\n",
      "Epoch 108/150\n",
      "120/120 [==============================] - 0s 101us/step - loss: 0.4842 - accuracy: 0.6833\n",
      "Epoch 109/150\n",
      "120/120 [==============================] - 0s 100us/step - loss: 0.4812 - accuracy: 0.6833\n",
      "Epoch 110/150\n",
      "120/120 [==============================] - 0s 100us/step - loss: 0.4783 - accuracy: 0.7000\n",
      "Epoch 111/150\n",
      "120/120 [==============================] - 0s 101us/step - loss: 0.4754 - accuracy: 0.8250\n",
      "Epoch 112/150\n",
      "120/120 [==============================] - 0s 99us/step - loss: 0.4725 - accuracy: 0.8833\n",
      "Epoch 113/150\n",
      "120/120 [==============================] - 0s 115us/step - loss: 0.4701 - accuracy: 0.8833\n",
      "Epoch 114/150\n",
      "120/120 [==============================] - 0s 81us/step - loss: 0.4674 - accuracy: 0.8833\n",
      "Epoch 115/150\n",
      "120/120 [==============================] - 0s 104us/step - loss: 0.4642 - accuracy: 0.8833\n",
      "Epoch 116/150\n",
      "120/120 [==============================] - 0s 93us/step - loss: 0.4615 - accuracy: 0.8833\n",
      "Epoch 117/150\n",
      "120/120 [==============================] - 0s 101us/step - loss: 0.4590 - accuracy: 0.8833\n",
      "Epoch 118/150\n",
      "120/120 [==============================] - 0s 112us/step - loss: 0.4562 - accuracy: 0.8833\n",
      "Epoch 119/150\n",
      "120/120 [==============================] - 0s 86us/step - loss: 0.4536 - accuracy: 0.9250\n",
      "Epoch 120/150\n",
      "120/120 [==============================] - 0s 75us/step - loss: 0.4509 - accuracy: 0.9333\n",
      "Epoch 121/150\n",
      "120/120 [==============================] - 0s 85us/step - loss: 0.4484 - accuracy: 0.9333\n",
      "Epoch 122/150\n",
      "120/120 [==============================] - 0s 88us/step - loss: 0.4458 - accuracy: 0.9333\n",
      "Epoch 123/150\n",
      "120/120 [==============================] - 0s 96us/step - loss: 0.4433 - accuracy: 0.9417\n",
      "Epoch 124/150\n",
      "120/120 [==============================] - 0s 94us/step - loss: 0.4409 - accuracy: 0.9500\n",
      "Epoch 125/150\n",
      "120/120 [==============================] - 0s 99us/step - loss: 0.4382 - accuracy: 0.9500\n",
      "Epoch 126/150\n",
      "120/120 [==============================] - 0s 85us/step - loss: 0.4358 - accuracy: 0.9500\n",
      "Epoch 127/150\n",
      "120/120 [==============================] - 0s 80us/step - loss: 0.4336 - accuracy: 0.9583\n",
      "Epoch 128/150\n",
      "120/120 [==============================] - 0s 92us/step - loss: 0.4309 - accuracy: 0.9917\n",
      "Epoch 129/150\n",
      "120/120 [==============================] - 0s 63us/step - loss: 0.4285 - accuracy: 0.9917\n",
      "Epoch 130/150\n",
      "120/120 [==============================] - 0s 83us/step - loss: 0.4262 - accuracy: 0.9917\n",
      "Epoch 131/150\n",
      "120/120 [==============================] - 0s 107us/step - loss: 0.4238 - accuracy: 0.9917\n",
      "Epoch 132/150\n",
      "120/120 [==============================] - 0s 92us/step - loss: 0.4214 - accuracy: 0.9917\n",
      "Epoch 133/150\n",
      "120/120 [==============================] - 0s 79us/step - loss: 0.4192 - accuracy: 0.9917\n",
      "Epoch 134/150\n",
      "120/120 [==============================] - 0s 107us/step - loss: 0.4169 - accuracy: 0.9917\n",
      "Epoch 135/150\n",
      "120/120 [==============================] - 0s 105us/step - loss: 0.4147 - accuracy: 0.9917\n",
      "Epoch 136/150\n",
      "120/120 [==============================] - 0s 95us/step - loss: 0.4126 - accuracy: 0.9917\n",
      "Epoch 137/150\n",
      "120/120 [==============================] - 0s 90us/step - loss: 0.4102 - accuracy: 0.9917\n",
      "Epoch 138/150\n",
      "120/120 [==============================] - 0s 72us/step - loss: 0.4083 - accuracy: 0.9917\n",
      "Epoch 139/150\n",
      "120/120 [==============================] - 0s 98us/step - loss: 0.4059 - accuracy: 0.9917\n",
      "Epoch 140/150\n",
      "120/120 [==============================] - 0s 88us/step - loss: 0.4038 - accuracy: 0.9917\n",
      "Epoch 141/150\n",
      "120/120 [==============================] - 0s 83us/step - loss: 0.4017 - accuracy: 0.9917\n",
      "Epoch 142/150\n",
      "120/120 [==============================] - 0s 94us/step - loss: 0.3997 - accuracy: 0.9917\n",
      "Epoch 143/150\n",
      "120/120 [==============================] - 0s 77us/step - loss: 0.3975 - accuracy: 1.0000\n",
      "Epoch 144/150\n",
      "120/120 [==============================] - 0s 97us/step - loss: 0.3954 - accuracy: 1.0000\n",
      "Epoch 145/150\n",
      "120/120 [==============================] - 0s 84us/step - loss: 0.3936 - accuracy: 1.0000\n",
      "Epoch 146/150\n",
      "120/120 [==============================] - 0s 79us/step - loss: 0.3916 - accuracy: 1.0000\n",
      "Epoch 147/150\n",
      "120/120 [==============================] - 0s 92us/step - loss: 0.3894 - accuracy: 1.0000\n",
      "Epoch 148/150\n",
      "120/120 [==============================] - 0s 78us/step - loss: 0.3874 - accuracy: 1.0000\n",
      "Epoch 149/150\n",
      "120/120 [==============================] - 0s 91us/step - loss: 0.3856 - accuracy: 1.0000\n",
      "Epoch 150/150\n",
      "120/120 [==============================] - 0s 104us/step - loss: 0.3835 - accuracy: 1.0000\n",
      "30/30 [==============================] - 0s 1ms/step\n"
     ]
    },
    {
     "data": {
      "text/plain": [
       "[0.3392127454280853, 0.9666666388511658]"
      ]
     },
     "execution_count": 34,
     "metadata": {},
     "output_type": "execute_result"
    }
   ],
   "source": [
    "model = Sequential()\n",
    "model.add(Dense(1, \n",
    "                activation='sigmoid',\n",
    "                input_dim=2))\n",
    "model.compile(optimizer='sgd',\n",
    "              loss='binary_crossentropy',\n",
    "              metrics=['accuracy'])\n",
    "model.fit(train_X, train_y, epochs=150)\n",
    "model.evaluate(test_X, test_y, verbose=1)"
   ]
  },
  {
   "cell_type": "code",
   "execution_count": null,
   "metadata": {},
   "outputs": [],
   "source": []
  },
  {
   "cell_type": "code",
   "execution_count": null,
   "metadata": {},
   "outputs": [],
   "source": [
    "# thank you"
   ]
  }
 ],
 "metadata": {
  "kernelspec": {
   "display_name": "Python 3",
   "language": "python",
   "name": "python3"
  },
  "language_info": {
   "codemirror_mode": {
    "name": "ipython",
    "version": 3
   },
   "file_extension": ".py",
   "mimetype": "text/x-python",
   "name": "python",
   "nbconvert_exporter": "python",
   "pygments_lexer": "ipython3",
   "version": "3.6.5"
  }
 },
 "nbformat": 4,
 "nbformat_minor": 2
}
